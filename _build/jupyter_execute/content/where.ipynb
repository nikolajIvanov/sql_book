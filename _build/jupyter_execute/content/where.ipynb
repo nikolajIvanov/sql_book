{
 "cells": [
  {
   "cell_type": "markdown",
   "id": "dc2bb259",
   "metadata": {},
   "source": [
    "# SQL WHERE\n",
    "\n",
    "Die WHERE-Klausel wird verwendet, um Datensätze zu filtern.\n",
    "\n",
    "Sie wird verwendet, um nur diejenigen Datensätze zu extrahieren, die eine bestimmte Bedingung erfüllen.\n",
    "\n",
    "\n",
    "Hinweis: Die WHERE-Klausel wird nicht nur in SELECT-Anweisungen verwendet, sondern auch in UPDATE, DELETE usw.!\n",
    "\n",
    "## Syntax\n",
    "```sql\n",
    "SELECT column1, column2, ...\n",
    "FROM table_name\n",
    "WHERE condition;\n",
    "```\n",
    "\n",
    "#### Beispieltabelle\n",
    "\n",
    "Unten sehen Sie eine Auswahl aus der Tabelle \"Customers\", die in den Beispielen verwendet wird:\n",
    "\n",
    "| CustomerID | CustomerName             | ContactName    | Address              | City         | PostalCode | Country |\n",
    "|------------|--------------------------|----------------|----------------------|--------------|------------|---------|\n",
    "| 1          | Alfreds Futterkiste      | Maria Anders   | Obere Str. 57        | Berlin       | 12209      | Germany |\n",
    "| 2          | Ana Trujillo Emparedados y helados | Ana Trujillo  | Avda. de la Constitución 2222 | México D.F. | 05021 | Mexico  |\n",
    "| 3          | Antonio Moreno Taquería  | Antonio Moreno | Mataderos 2312       | México D.F.  | 05023      | Mexico  |\n",
    "| 4          | Around the Horn          | Thomas Hardy   | 120 Hanover Sq.      | London       | WA1 1DP    | UK      |\n",
    "| 5          | Berglunds snabbköp       | Christina Berglund | Berguvsvägen 8    | Luleå       | S-958 22   | Sweden  |\n",
    "\n",
    "\n",
    "## Textfelder vs. Numerische Felder\n",
    "\n",
    "SQL erfordert einfache Anführungszeichen um Textwerte (die meisten Datenbanksysteme erlauben auch doppelte Anführungszeichen).\n",
    "\n",
    "Numerische Felder sollten jedoch nicht in Anführungszeichen eingeschlossen werden:\n",
    "\n",
    "```sql\n",
    "SELECT * FROM Customers\n",
    "WHERE CustomerID=1;\n",
    "```\n",
    "\n",
    "| CustomerID | CustomerName       | ContactName | Address       | City   | PostalCode | Country |\n",
    "|------------|--------------------|-------------|---------------|--------|------------|---------|\n",
    "|          1 | Alfreds Futterkiste | Maria Anders| Obere Str. 57 | Berlin |      12209 | Germany |"
   ]
  }
 ],
 "metadata": {
  "jupytext": {
   "formats": "md:myst",
   "text_representation": {
    "extension": ".md",
    "format_name": "myst",
    "format_version": 0.13,
    "jupytext_version": "1.11.5"
   }
  },
  "kernelspec": {
   "display_name": "Python 3",
   "language": "python",
   "name": "python3"
  },
  "language_info": {
   "codemirror_mode": {
    "name": "ipython",
    "version": 3
   },
   "file_extension": ".py",
   "mimetype": "text/x-python",
   "name": "python",
   "nbconvert_exporter": "python",
   "pygments_lexer": "ipython3",
   "version": "3.12.2"
  },
  "source_map": [
   13
  ]
 },
 "nbformat": 4,
 "nbformat_minor": 5
}