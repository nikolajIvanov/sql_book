{
 "cells": [
  {
   "cell_type": "markdown",
   "id": "d8d2b554",
   "metadata": {},
   "source": [
    "# SQL JOINS\n",
    "\n",
    "- [(INNER) JOIN](./inner_join.md)\n",
    "- [LEFT JOIN](./left_join.md)\n",
    "- [FULL JOIN](./full_join.md)"
   ]
  }
 ],
 "metadata": {
  "jupytext": {
   "formats": "md:myst",
   "text_representation": {
    "extension": ".md",
    "format_name": "myst",
    "format_version": 0.13,
    "jupytext_version": "1.11.5"
   }
  },
  "kernelspec": {
   "display_name": "Python 3",
   "language": "python",
   "name": "python3"
  },
  "language_info": {
   "codemirror_mode": {
    "name": "ipython",
    "version": 3
   },
   "file_extension": ".py",
   "mimetype": "text/x-python",
   "name": "python",
   "nbconvert_exporter": "python",
   "pygments_lexer": "ipython3",
   "version": "3.12.2"
  },
  "source_map": [
   13
  ]
 },
 "nbformat": 4,
 "nbformat_minor": 5
}