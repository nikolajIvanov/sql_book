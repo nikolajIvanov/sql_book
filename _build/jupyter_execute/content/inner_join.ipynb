{
 "cells": [
  {
   "cell_type": "markdown",
   "id": "12d8082c",
   "metadata": {},
   "source": [
    "# SQL INNER JOIN\n",
    "\n",
    "![Darstellung eines (INNER) JOIN](../assets/img_inner_join.png)\n",
    "\n",
    "## Syntax\n",
    "```sql\n",
    "SELECT column_name(s)\n",
    "FROM table1\n",
    "INNER JOIN table2\n",
    "ON table1.column_name = table2.column_name;\n",
    "```"
   ]
  }
 ],
 "metadata": {
  "jupytext": {
   "formats": "md:myst",
   "text_representation": {
    "extension": ".md",
    "format_name": "myst",
    "format_version": 0.13,
    "jupytext_version": "1.11.5"
   }
  },
  "kernelspec": {
   "display_name": "Python 3",
   "language": "python",
   "name": "python3"
  },
  "language_info": {
   "codemirror_mode": {
    "name": "ipython",
    "version": 3
   },
   "file_extension": ".py",
   "mimetype": "text/x-python",
   "name": "python",
   "nbconvert_exporter": "python",
   "pygments_lexer": "ipython3",
   "version": "3.12.2"
  },
  "source_map": [
   13
  ]
 },
 "nbformat": 4,
 "nbformat_minor": 5
}