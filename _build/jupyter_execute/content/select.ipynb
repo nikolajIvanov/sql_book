{
 "cells": [
  {
   "cell_type": "markdown",
   "id": "5fe74097",
   "metadata": {},
   "source": [
    "# Die SQL SELECT-Anweisung\n",
    "\n",
    "Die SELECT-Anweisung wird verwendet, um Daten aus einer Datenbank auszuwählen.\n",
    "\n",
    "## Syntax\n",
    "```sql\n",
    "SELECT column1, column2, ...\n",
    "FROM table_name;\n",
    "```\n",
    "\n",
    "Hierbei sind *column1*, *column2*, ... die Feldnamen der Tabelle, aus der Sie Daten auswählen möchten.\n",
    "\n",
    "*table_name* steht für den Namen der Tabelle, aus der Sie Daten auswählen möchten.\n",
    "\n",
    "## Ausgabe von Spalten\n",
    "\n",
    "Die zu selektierenden Spalten werden in einem SQL-Abfragebefehl zwischen **SELECT** und **FROM** definiert. Sie bestimmen, welche Datenfelder aus der Datenbanktabelle ausgegeben werden sollen.\n",
    "\n",
    "#### Beispieltabelle\n",
    "\n",
    "Unten sehen Sie eine Auswahl aus der Tabelle **__Customers__**\", die in den Beispielen verwendet wird:\n",
    "\n",
    "| CustomerID | CustomerName             | ContactName    | Address              | City         | PostalCode | Country |\n",
    "|------------|--------------------------|----------------|----------------------|--------------|------------|---------|\n",
    "| 1          | Alfreds Futterkiste      | Maria Anders   | Obere Str. 57        | Berlin       | 12209      | Germany |\n",
    "| 2          | Ana Trujillo Emparedados y helados | Ana Trujillo  | Avda. de la Constitución 2222 | México D.F. | 05021 | Mexico  |\n",
    "| 3          | Antonio Moreno Taquería  | Antonio Moreno | Mataderos 2312       | México D.F.  | 05023      | Mexico  |\n",
    "| 4          | Around the Horn          | Thomas Hardy   | 120 Hanover Sq.      | London       | WA1 1DP    | UK      |\n",
    "| 5          | Berglunds snabbköp       | Christina Berglund | Berguvsvägen 8    | Luleå       | S-958 22   | Sweden  |\n",
    "\n",
    "### Ausgabe aller Spalten\n",
    "\n",
    "Im SQL bezeichnet das Sternchen (*) eine Wildcard, die im **SELECT**-Befehl verwendet wird, um alle Spalten einer Tabelle auszuwählen. Anstatt jede Spalte einzeln zu benennen, holt **SELECT** * einfach alle vorhandenen Spalten und die dazugehörigen Daten.\n",
    "\n",
    "```sql\n",
    "SELECT * FROM Customers;\n",
    "```\n",
    "\n",
    "### Ausgabe einzelner Spalten\n",
    "\n",
    "Um spezifische Spalten aus einer Tabelle zu selektieren, listen Sie die Namen der gewünschten Spalten nach dem Befehl **SELECT** auf, getrennt durch Kommas. Zum Beispiel:\n",
    "\n",
    "```sql\n",
    "SELECT CustomerName, City FROM Customers;\n",
    "```\n",
    "\n",
    "Dieser Befehl wählt nur die Spalten *CustomerName* und *City* aus der Tabelle Kunden.\n",
    "\n",
    "#### Ergebnis\n",
    "\n",
    "| CustomerName                         | City       |\n",
    "|--------------------------------------|------------|\n",
    "| Alfreds Futterkiste                  | Berlin     |\n",
    "| Ana Trujillo Emparedados y helados   | México D.F.|\n",
    "| Antonio Moreno Taquería              | México D.F.|\n",
    "| Around the Horn                      | London     |\n",
    "| Berglunds snabbköp                   | Luleå      |"
   ]
  }
 ],
 "metadata": {
  "jupytext": {
   "formats": "md:myst",
   "text_representation": {
    "extension": ".md",
    "format_name": "myst",
    "format_version": 0.13,
    "jupytext_version": "1.11.5"
   }
  },
  "kernelspec": {
   "display_name": "Python 3",
   "language": "python",
   "name": "python3"
  },
  "language_info": {
   "codemirror_mode": {
    "name": "ipython",
    "version": 3
   },
   "file_extension": ".py",
   "mimetype": "text/x-python",
   "name": "python",
   "nbconvert_exporter": "python",
   "pygments_lexer": "ipython3",
   "version": "3.12.2"
  },
  "source_map": [
   13
  ]
 },
 "nbformat": 4,
 "nbformat_minor": 5
}